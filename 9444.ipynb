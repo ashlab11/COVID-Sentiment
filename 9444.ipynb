{
 "cells": [
  {
   "cell_type": "code",
   "id": "6daaedf80379024e",
   "metadata": {
    "ExecuteTime": {
     "end_time": "2025-04-25T14:23:37.072393Z",
     "start_time": "2025-04-25T14:23:33.886398Z"
    }
   },
   "source": [
    "import pandas as pd\n",
    "import nltk, re\n",
    "from nltk.corpus import stopwords\n",
    "\n",
    "\n",
    "nltk.download('punkt')\n",
    "nltk.download('stopwords')\n",
    "words = set(stopwords.words('english'))\n",
    "\n",
    "\n",
    "def cleandata(file):\n",
    "    def process_text(text):\n",
    "        if not isinstance(text, str):\n",
    "            return []\n",
    "        text = re.sub(r'[^\\w\\s]', '', text.lower())\n",
    "        text = re.sub(r'\\d+', '', text)\n",
    "        tokens = nltk.word_tokenize(text)\n",
    "        return [token for token in tokens if token not in words]\n",
    "\n",
    "    sentences = file['tweet'].apply(process_text)\n",
    "    labels = file['label'].values\n",
    "    mask = sentences.apply(len) > 0\n",
    "    sentences = sentences[mask].tolist()\n",
    "    labels = labels[mask]\n",
    "    print(f\"Cleaned data: {len(sentences)} sentences, {len(labels)} labels\")\n",
    "    return sentences, labels\n",
    "\n",
    "file = pd.read_csv('./data/clean_COVIDSenti.csv')\n",
    "sentences, labels = cleandata(file)\n",
    "cleanfile = pd.DataFrame({'tweet': sentences,'label': labels})\n",
    "cleanfile.to_csv(\"./data/cleaned.csv\", index=False)"
   ],
   "outputs": [
    {
     "name": "stderr",
     "output_type": "stream",
     "text": [
      "[nltk_data] Downloading package punkt to C:\\Users\\manafeng-\n",
      "[nltk_data]     local\\AppData\\Roaming\\nltk_data...\n",
      "[nltk_data]   Package punkt is already up-to-date!\n",
      "[nltk_data] Downloading package stopwords to C:\\Users\\manafeng-\n",
      "[nltk_data]     local\\AppData\\Roaming\\nltk_data...\n",
      "[nltk_data]   Package stopwords is already up-to-date!\n"
     ]
    },
    {
     "name": "stdout",
     "output_type": "stream",
     "text": [
      "Cleaned data: 90000 sentences, 90000 labels\n"
     ]
    }
   ],
   "execution_count": 6
  },
  {
   "cell_type": "code",
   "id": "initial_id",
   "metadata": {
    "collapsed": true,
    "ExecuteTime": {
     "end_time": "2025-04-25T14:25:40.016358Z",
     "start_time": "2025-04-25T14:23:39.390607Z"
    }
   },
   "source": [
    "import multiprocessing\n",
    "import pandas as pd\n",
    "import numpy as np\n",
    "from gensim.models import Word2Vec\n",
    "from sklearn.model_selection import train_test_split\n",
    "from sklearn.ensemble import RandomForestClassifier\n",
    "from sklearn.metrics import accuracy_score, classification_report\n",
    "\n",
    "\n",
    "def extract_features(tokens, model_path, vector_size):\n",
    "        model = Word2Vec.load(model_path)\n",
    "        vectors = [model.wv[word] for word in tokens if word in model.wv]\n",
    "        return np.mean(vectors if vectors else [np.zeros(vector_size)], axis=0)\n",
    "\n",
    "\n",
    "def save_test_features(x, y, method, n_jobs=-1):\n",
    "    unilabels, counts = np.unique(y, return_counts=True)\n",
    "    print(dict(zip(unilabels, counts)))\n",
    "    np.save(f\"{method}-features.npy\", x)\n",
    "    np.save(f\"{method}-labels.npy\", y)\n",
    "    print(f\"{method} 's npy files have saved\")\n",
    "\n",
    "    x = np.array(x)\n",
    "    y = np.array(y)\n",
    "\n",
    "    trainx, testx, trainy, testy = train_test_split(x, y, test_size=0.2, random_state=42)\n",
    "\n",
    "    for estimate in [100, 200, 300, 400, 500]:\n",
    "        for depth in [5, 10, 20]:\n",
    "            for feature in ['sqrt', 'log2', 0.3]:\n",
    "                    rt = RandomForestClassifier(\n",
    "                    n_estimators = estimate,\n",
    "                    max_depth = depth,\n",
    "                    max_features= feature,\n",
    "                    random_state=42,\n",
    "                    n_jobs=n_jobs\n",
    "                    )\n",
    "                    rt.fit(trainx, trainy)\n",
    "                    predy = rt.predict(testx)\n",
    "\n",
    "                    print(f\"Results with Random Forest:\")\n",
    "                    print(f\"estimate: {estimate}, depth: {depth}, feature: {feature}\")\n",
    "                    print(f\"accuracy: {accuracy_score(testy, predy):.4f}\")\n",
    "                    print(\"accuracy rate:\")\n",
    "                    print(classification_report(testy, predy, target_names=['Negative', 'Neutral', 'Positive']))\n",
    "     \n",
    "model_path = \"word2vec.model\"\n",
    "vector_size = 300\n",
    "\n",
    "def word2vec(file_path, vector_size=300, window=5, min_count=5):\n",
    "    file = pd.read_csv(file_path, header=0, names=['tweet', 'label'])\n",
    "    all_sentences = file['tweet'].tolist()\n",
    "    labels = file['label'].values\n",
    "\n",
    "    model = Word2Vec(\n",
    "        sg =1,\n",
    "        epochs = 60,\n",
    "        vector_size=vector_size,\n",
    "        window=window,\n",
    "        min_count=min_count,\n",
    "        workers=multiprocessing.cpu_count(),\n",
    "    )\n",
    "    model.build_vocab(all_sentences)\n",
    "    model.train(all_sentences, total_examples=len(all_sentences), epochs=model.epochs)\n",
    "\n",
    "    model.save(model_path)\n",
    "\n",
    "\n",
    "\n",
    "\n",
    "\n",
    "file_path = \"./data/cleaned.csv\"\n",
    "word2vec(file_path)\n",
    "\n",
    "file = pd.read_csv(file_path, header=0, names=['tweet', 'label'])\n",
    "all_sentences = file['tweet'].tolist()\n",
    "\n",
    "x = [extract_features(tokens, model_path, vector_size) for tokens in all_sentences]\n",
    "x = np.array(x)\n",
    "print(f\"{x.shape} features has extracted\")\n",
    "print(x)\n"
   ],
   "outputs": [
    {
     "name": "stdout",
     "output_type": "stream",
     "text": [
      "(90000, 300) features has extracted\n",
      "[[ 3.7541820e-05 -6.4236864e-02 -3.4089450e-02 ... -1.9345972e-01\n",
      "   2.0742174e-02 -1.8445931e-03]\n",
      " [-6.9524585e-03 -6.0245410e-02 -2.1768725e-02 ... -1.5030876e-01\n",
      "   4.1639283e-03 -1.7745428e-04]\n",
      " [ 3.5694058e-03 -5.4090854e-02 -2.7257336e-02 ... -1.6944167e-01\n",
      "   2.0664169e-02 -4.4091153e-03]\n",
      " ...\n",
      " [-1.3736335e-03 -5.6794941e-02 -2.6529003e-02 ... -1.6168427e-01\n",
      "   6.7730737e-03  1.5622873e-03]\n",
      " [ 2.8405252e-03 -6.1024889e-02 -2.5155567e-02 ... -1.7874061e-01\n",
      "   1.3277697e-02 -1.6294901e-03]\n",
      " [ 1.2770551e-02 -4.8609763e-02 -1.9474313e-02 ... -1.7441468e-01\n",
      "   1.0854853e-02  9.0264603e-03]]\n"
     ]
    }
   ],
   "execution_count": 7
  },
  {
   "cell_type": "code",
   "id": "64436d3f",
   "metadata": {
    "ExecuteTime": {
     "end_time": "2025-04-25T14:41:32.555998Z",
     "start_time": "2025-04-25T14:27:06.517117Z"
    }
   },
   "source": [
    "print(len(x[0]))\n",
    "\n",
    "def five_fold_validation(X, y):\n",
    "\n",
    "    folds = len(X) // 5\n",
    "    for i in range(5):\n",
    "        start = i * folds\n",
    "        end = start + folds if i < 4 else len(X)\n",
    "        x_train = np.concatenate((X[:start], X[end:]))\n",
    "        y_train = np.concatenate((y[:start], y[end:]))\n",
    "        x_test = X[start:end]\n",
    "        y_test = y[start:end]\n",
    "\n",
    "        rf = RandomForestClassifier(\n",
    "            n_estimators=500,\n",
    "            max_depth=20,\n",
    "            max_features=0.3,\n",
    "            random_state=42,\n",
    "            n_jobs=-1\n",
    "        )\n",
    "\n",
    "        rf.fit(x_train, y_train)\n",
    "        predy = rf.predict(x_test)\n",
    "        print(f\"Fold {i + 1} results:\")\n",
    "        print(f\"accuracy: {accuracy_score(y_test, predy):.4f}\")\n",
    "\n",
    "five_fold_validation(x, labels)"
   ],
   "outputs": [
    {
     "name": "stdout",
     "output_type": "stream",
     "text": [
      "300\n",
      "Fold 1 results:\n",
      "accuracy: 0.7711\n",
      "Fold 2 results:\n",
      "accuracy: 0.7636\n",
      "Fold 3 results:\n",
      "accuracy: 0.7566\n",
      "Fold 4 results:\n",
      "accuracy: 0.7381\n",
      "Fold 5 results:\n",
      "accuracy: 0.7344\n"
     ]
    }
   ],
   "execution_count": 8
  }
 ],
 "metadata": {
  "kernelspec": {
   "display_name": ".venv",
   "language": "python",
   "name": "python3"
  },
  "language_info": {
   "codemirror_mode": {
    "name": "ipython",
    "version": 3
   },
   "file_extension": ".py",
   "mimetype": "text/x-python",
   "name": "python",
   "nbconvert_exporter": "python",
   "pygments_lexer": "ipython3",
   "version": "3.11.2"
  }
 },
 "nbformat": 4,
 "nbformat_minor": 5
}
