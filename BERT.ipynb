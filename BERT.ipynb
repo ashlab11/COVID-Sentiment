{
 "cells": [
  {
   "cell_type": "code",
   "execution_count": 74,
   "metadata": {},
   "outputs": [],
   "source": [
    "import pandas as pd\n",
    "import torch\n",
    "import torch.nn as nn\n",
    "import torch.optim as optim\n",
    "import numpy as np\n",
    "from functools import reduce\n",
    "from sklearn.utils.class_weight import compute_class_weight\n",
    "from transformers import DistilBertTokenizer, DistilBertModel, DistilBertForSequenceClassification \n",
    "from transformers import BertTokenizer, BertModel\n",
    "from collections import Counter\n",
    "import xgboost\n",
    "\n",
    "dataset = pd.read_csv(\"clean_COVIDSenti.csv\")\n",
    "tokenizer = DistilBertTokenizer.from_pretrained('distilbert-base-uncased')\n",
    "\n",
    "def tokenize(tweet):\n",
    "    tokenized = tokenizer(tweet, padding=\"max_length\", max_length = 47)\n",
    "    return tokenized\n",
    "\n",
    "tweets, labels = dataset['tweet'], dataset['label'] + 1\n",
    "tokenized_tweets = tweets.map(tokenize)"
   ]
  },
  {
   "cell_type": "code",
   "execution_count": null,
   "metadata": {},
   "outputs": [],
   "source": [
    "#I'll eventually do CV and ES, but for now this is just train-test split!\n",
    "from torch.utils.data import DataLoader, WeightedRandomSampler, Dataset\n",
    "#Splitting into train, val, and test sets\n",
    "split_frac = 0.9\n",
    "test_split_idx = int(len(tokenized_tweets) * split_frac)\n",
    "val_split_idx = int(test_split_idx * split_frac)\n",
    "x_train, y_train = tokenized_tweets[:val_split_idx], labels[:val_split_idx]\n",
    "x_val, y_val = tokenized_tweets[val_split_idx:test_split_idx], labels[val_split_idx:test_split_idx]\n",
    "x_test, y_test = tokenized_tweets[test_split_idx:], labels[test_split_idx:]\n",
    "\n",
    "#Turning into dataloaders\n",
    "batch_size = 64\n",
    "\n",
    "class TweetDataset(Dataset):\n",
    "    def __init__(self, tweets, labels):\n",
    "        self.x = tweets\n",
    "        self.y = labels\n",
    "        \n",
    "    def __getitem__(self, index):\n",
    "        x = self.x.iloc[index]\n",
    "        x = {key: torch.tensor(val) for key, val in x.items()}\n",
    "        y = self.y.iloc[index]\n",
    "        return (x, y)\n",
    "    \n",
    "    def __len__(self):\n",
    "        return len(self.x)\n",
    "\n",
    "#Dealing with imbalanced class weights for train dataset\n",
    "frequency = 1 / np.bincount(y_train)\n",
    "class_weights = torch.tensor(frequency, dtype=torch.float32)\n",
    "obs_weights = []\n",
    "for val in y_train:\n",
    "    obs_weights.append(class_weights[val])\n",
    "obs_weights = torch.tensor(obs_weights)\n",
    "\n",
    "#Sampling data and creating train/val/test sets\n",
    "train_sampler = WeightedRandomSampler(weights = obs_weights, num_samples = len(obs_weights))\n",
    "train_data = TweetDataset(x_train, y_train)\n",
    "train_loader = DataLoader(train_data, batch_size=batch_size, sampler = train_sampler) #Test with shuffle instead of sampler, maybe?\n",
    "val_data = TweetDataset(x_val, y_val)\n",
    "test_data = TweetDataset(x_test, y_test)\n",
    "val_loader = DataLoader(val_data, shuffle=False, batch_size=batch_size)\n",
    "test_loader = DataLoader(test_data, shuffle=False, batch_size=batch_size)"
   ]
  },
  {
   "cell_type": "code",
   "execution_count": null,
   "metadata": {},
   "outputs": [
    {
     "name": "stdout",
     "output_type": "stream",
     "text": [
      "Training on Apple GPU\n"
     ]
    }
   ],
   "source": [
    "#Begin work on actual model\n",
    "if torch.backends.mps.is_available():\n",
    "    device = torch.device(\"mps\")\n",
    "    print(\"Training on Apple GPU\")\n",
    "elif torch.cuda.is_available():\n",
    "    device = torch.device(\"cuda\")\n",
    "    print(\"Training on CUDA\")\n",
    "else:\n",
    "    print (\"MPS device not found.\")\n",
    "\n",
    "\n",
    "class SentiBERT(nn.Module):\n",
    "    def __init__(self):\n",
    "        super().__init__()\n",
    "        self.bert = DistilBertModel.from_pretrained('distilbert-base-uncased')\n",
    "        self.softmax = nn.LogSoftmax(dim = 1)\n",
    "        \n",
    "    def forward(self, **inputs):\n",
    "        output = self.bert(**inputs)['last_hidden_state']\n",
    "        \n",
    "        output = output.mean(axis = 1)\n",
    "        output = self.lin1(output)\n",
    "        output = self.softmax(output)\n",
    "        return output"
   ]
  },
  {
   "cell_type": "code",
   "execution_count": 99,
   "metadata": {},
   "outputs": [
    {
     "name": "stderr",
     "output_type": "stream",
     "text": [
      "Some weights of DistilBertForSequenceClassification were not initialized from the model checkpoint at distilbert-base-uncased and are newly initialized: ['classifier.bias', 'classifier.weight', 'pre_classifier.bias', 'pre_classifier.weight']\n",
      "You should probably TRAIN this model on a down-stream task to be able to use it for predictions and inference.\n"
     ]
    },
    {
     "name": "stdout",
     "output_type": "stream",
     "text": [
      "Epoch 1\n",
      "New accuracy has been reached: 0.8799999952316284\n",
      "Epoch 2\n",
      "Epoch 3\n",
      "Epoch 4\n",
      "New accuracy has been reached: 0.8893827199935913\n",
      "Epoch 5\n",
      "New accuracy has been reached: 0.8928394913673401\n",
      "Epoch 6\n",
      "New accuracy has been reached: 0.896172821521759\n",
      "Epoch 7\n",
      "Epoch 8\n",
      "Epoch 9\n",
      "Epoch 10\n",
      "Epoch 11\n"
     ]
    }
   ],
   "source": [
    "#model = SentiBERT()\n",
    "model = DistilBertForSequenceClassification.from_pretrained('distilbert-base-uncased', num_labels=3)\n",
    "model = model.to(device)\n",
    "\n",
    "#I originally tried just training these layers, but training the entire model worked out considerably better\n",
    "layers = [model.classifier, model.pre_classifier, model.distilbert.transformer.layer[4], model.distilbert.transformer.layer[5]]\n",
    "\n",
    "for param in model.parameters():\n",
    "    param.requires_grad = True\n",
    "\n",
    "model.train()\n",
    "\n",
    "lr = 0.0001\n",
    "epoch = 0\n",
    "no_improvement = 0\n",
    "curr_acc = 0\n",
    "criterion = nn.CrossEntropyLoss() #Without softmax we use CEL\n",
    "optimizer = torch.optim.Adam(model.parameters(), lr = lr)\n",
    "\n",
    "while no_improvement < 5:\n",
    "    epoch += 1\n",
    "    print(f\"Epoch {epoch}\")\n",
    "    for inputs, labels in train_loader:\n",
    "        inputs['input_ids'], inputs['attention_mask'] = inputs['input_ids'].to(device), inputs['attention_mask'].to(device)\n",
    "        labels = labels.to(device)\n",
    "        \n",
    "        model.zero_grad()\n",
    "        with torch.autocast(\"mps\"):\n",
    "            output = model(**inputs)['logits']   \n",
    "        loss = criterion(output, labels)\n",
    "        loss.backward()\n",
    "        optimizer.step()\n",
    "    \n",
    "    model.eval()\n",
    "    correct = torch.tensor(0, device = device)\n",
    "    incorrect = torch.tensor(0, device = device)\n",
    "    \n",
    "    for inputs, labels in val_loader:\n",
    "        inputs['input_ids'], inputs['attention_mask'] = inputs['input_ids'].to(device), inputs['attention_mask'].to(device)\n",
    "        labels = labels.to(device)\n",
    "        probs = model(**inputs)['logits']\n",
    "        preds = torch.argmax(probs, axis = 1)\n",
    "        preds = preds.to(device)\n",
    "        correct += (preds == labels).sum()\n",
    "        incorrect += (preds != labels).sum()  \n",
    "    \n",
    "    accuracy = correct / (correct + incorrect)\n",
    "    if accuracy > curr_acc:\n",
    "        print(f\"New accuracy has been reached: {accuracy}\")\n",
    "        curr_acc = accuracy\n",
    "        no_improvement = 0\n",
    "    else:\n",
    "        no_improvement += 1\n",
    "    \n",
    "    model.train()"
   ]
  },
  {
   "cell_type": "code",
   "execution_count": 101,
   "metadata": {},
   "outputs": [
    {
     "name": "stdout",
     "output_type": "stream",
     "text": [
      "tensor(0.8919, device='mps:0')\n"
     ]
    }
   ],
   "source": [
    "model.eval()\n",
    "correct = torch.tensor(0, device = device)\n",
    "incorrect = torch.tensor(0, device = device)\n",
    "\n",
    "for inputs, labels in test_loader:\n",
    "    inputs['input_ids'], inputs['attention_mask'] = inputs['input_ids'].to(device), inputs['attention_mask'].to(device)\n",
    "    labels = labels.to(device)\n",
    "    probs = model(**inputs)['logits']\n",
    "    preds = torch.argmax(probs, axis = 1)\n",
    "    preds = preds.to(device)\n",
    "    correct += (preds == labels).sum()\n",
    "    incorrect += (preds != labels).sum()  \n",
    "\n",
    "accuracy = correct / (correct + incorrect)\n",
    "print(accuracy)"
   ]
  }
 ],
 "metadata": {
  "kernelspec": {
   "display_name": "Sentiment",
   "language": "python",
   "name": "python3"
  },
  "language_info": {
   "codemirror_mode": {
    "name": "ipython",
    "version": 3
   },
   "file_extension": ".py",
   "mimetype": "text/x-python",
   "name": "python",
   "nbconvert_exporter": "python",
   "pygments_lexer": "ipython3",
   "version": "3.10.9"
  }
 },
 "nbformat": 4,
 "nbformat_minor": 2
}
