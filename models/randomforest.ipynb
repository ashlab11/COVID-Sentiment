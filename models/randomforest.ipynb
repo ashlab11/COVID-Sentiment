{
 "cells": [
  {
   "cell_type": "code",
   "execution_count": 59,
   "metadata": {},
   "outputs": [
    {
     "name": "stdout",
     "output_type": "stream",
     "text": [
      "/Users/yk/Desktop/comp9444/proj/COVID-Sentiment/models\n"
     ]
    }
   ],
   "source": [
    "import torch\n",
    "import torch.multiprocessing as mp\n",
    "import os\n",
    "from torch.utils.data import DataLoader, TensorDataset\n",
    "from tools.average_embeddings import average_embeddings\n",
    "from tools.train_tree import train_tree\n",
    "from math import log2\n",
    "from DecisionTree import DecisionTree\n",
    "import random\n",
    "\n",
    "print(os.getcwd())"
   ]
  },
  {
   "cell_type": "code",
   "execution_count": 60,
   "metadata": {},
   "outputs": [],
   "source": [
    "data = average_embeddings(\"../features_extraction/word2vec.pt\")"
   ]
  },
  {
   "cell_type": "code",
   "execution_count": 61,
   "metadata": {},
   "outputs": [],
   "source": [
    "data_size = len(data)\n",
    "# print(data_size)\n",
    "# train = data[:int(data_size * 0.8)]\n",
    "# test = data[int(data_size * 0.8):]\n",
    "train = []\n",
    "c1 = c2 = c3 = 0\n",
    "for i in data:\n",
    "    label = i[1]\n",
    "    if label == -1 and c1 <= 10:\n",
    "        train.append(i)\n",
    "        c1 += 1\n",
    "    elif label == 0 and c2 <= 10:\n",
    "        train.append(i)\n",
    "        c2 += 1\n",
    "    elif label == 1 and c3 <= 10:\n",
    "        train.append(i)\n",
    "        c3 += 1\n",
    "        \n",
    "    if c1 == 10 and c2 == 10 and c3 == 10:\n",
    "        break\n",
    "\n",
    "random.shuffle(train)\n",
    "\n",
    "test = data[:-20]"
   ]
  },
  {
   "cell_type": "code",
   "execution_count": 62,
   "metadata": {},
   "outputs": [],
   "source": [
    "X_train = torch.tensor([i[0] for i in train])\n",
    "y_train = torch.tensor([i[1] for i in train])\n",
    "\n",
    "\n",
    "X_test = torch.tensor([i[0] for i in test])\n",
    "y_test = torch.tensor([i[1] for i in test])\n",
    "\n",
    "train_loader = DataLoader(TensorDataset(X_train, y_train), batch_size=32, shuffle=True)\n",
    "test_loader = DataLoader(TensorDataset(X_test, y_test), batch_size=32, shuffle=True)"
   ]
  },
  {
   "cell_type": "code",
   "execution_count": 63,
   "metadata": {},
   "outputs": [],
   "source": [
    "class RandomForest:\n",
    "    def __init__(self, n_trees=5, max_depth=3, min_samples_split=2):\n",
    "        self.n_trees = n_trees\n",
    "        self.trees = [DecisionTree(max_depth=max_depth, min_samples_split=min_samples_split) for _ in range(n_trees)]\n",
    "        \n",
    "    def fit(self, X, y):\n",
    "        # for tree in self.trees:\n",
    "        #     # Select random samples\n",
    "        #     indices = torch.randint(0, len(X), (len(X),))\n",
    "        #     X_samples, y_samples = X[indices], y[indices]\n",
    "        #     tree.fit(X_samples, y_samples)\n",
    "        \n",
    "        with mp.Pool() as pool:\n",
    "            self.trees = pool.starmap(train_tree, [(tree, X, y) for tree in self.trees])\n",
    "            \n",
    "            \n",
    "    \n",
    "    def predict(self, X):\n",
    "        predictions = torch.stack([tree.predict(X) for tree in self.trees])\n",
    "        return torch.mode(predictions).values\n",
    "            "
   ]
  },
  {
   "cell_type": "code",
   "execution_count": 69,
   "metadata": {},
   "outputs": [
    {
     "name": "stdout",
     "output_type": "stream",
     "text": [
      "\n",
      "Fold 1\n",
      "Accuracy: 0.8500\n",
      "\n",
      "Fold 2\n",
      "Accuracy: 0.8500\n",
      "\n",
      "Fold 3\n",
      "Accuracy: 0.7500\n",
      "\n",
      "Fold 4\n"
     ]
    }
   ],
   "source": [
    "data = list(data)\n",
    "random.shuffle(data)\n",
    "\n",
    "X_all = torch.stack([torch.tensor(i[0]) for i in data])\n",
    "y_all = torch.tensor([i[1] for i in data])\n",
    "\n",
    "n_samples = len(data)\n",
    "folds = n_samples // 5\n",
    "indices = list(range(n_samples))\n",
    "\n",
    "accuracies = []\n",
    "\n",
    "for fold in range(5):\n",
    "    print(f\"\\nFold {fold + 1}\")\n",
    "    val_start = fold * folds\n",
    "    val_end = (fold + 1) * folds if fold != 4 else n_samples\n",
    "    val_idx = indices[val_start:val_end]\n",
    "    train_idx = indices[:val_start] + indices[val_end:]\n",
    "    X_train = X_all[train_idx]\n",
    "    y_train = y_all[train_idx]\n",
    "    X_val = X_all[val_idx]\n",
    "    y_val = y_all[val_idx]\n",
    "\n",
    "    model = RandomForest(n_trees=5, max_depth=3, min_samples_split=2)\n",
    "    model.fit(X_train, y_train)\n",
    "\n",
    "    preds = []\n",
    "    for i in X_val:\n",
    "        preds.append(model.predict(i))\n",
    "        \n",
    "    preds = torch.tensor(preds)\n",
    "    acc = (preds == y_val).float().mean().item()\n",
    "    print(f\"Accuracy: {acc:.4f}\")\n",
    "    accuracies.append(acc)\n",
    "\n",
    "print(f\"\\nAverage Accuracy over 5 folds: {sum(accuracies) / len(accuracies):.4f}\")"
   ]
  }
 ],
 "metadata": {
  "kernelspec": {
   "display_name": ".venv",
   "language": "python",
   "name": "python3"
  },
  "language_info": {
   "codemirror_mode": {
    "name": "ipython",
    "version": 3
   },
   "file_extension": ".py",
   "mimetype": "text/x-python",
   "name": "python",
   "nbconvert_exporter": "python",
   "pygments_lexer": "ipython3",
   "version": "3.11.6"
  }
 },
 "nbformat": 4,
 "nbformat_minor": 2
}
