{
 "cells": [
  {
   "cell_type": "code",
   "execution_count": 14,
   "id": "initial_id",
   "metadata": {
    "ExecuteTime": {
     "end_time": "2025-04-20T13:54:01.132460Z",
     "start_time": "2025-04-20T12:19:02.391126Z"
    },
    "collapsed": true
   },
   "outputs": [],
   "source": [
    "import numpy as np\n",
    "import torch\n",
    "from sklearn.ensemble import RandomForestClassifier\n",
    "from sklearn.metrics import accuracy_score\n",
    "import random"
   ]
  },
  {
   "cell_type": "code",
   "execution_count": 15,
   "id": "0009b126",
   "metadata": {},
   "outputs": [],
   "source": [
    "def average_embeddings(path):\n",
    "    data = torch.load(path, weights_only=False)\n",
    "    results = []\n",
    "    for d in data:\n",
    "        average = np.mean(d[0], axis=0)\n",
    "        results.append((average, d[1]))\n",
    "    return results\n",
    "    \n",
    "\n",
    "features = average_embeddings(\"word2vec.pt\")"
   ]
  },
  {
   "cell_type": "code",
   "execution_count": null,
   "id": "64436d3f",
   "metadata": {},
   "outputs": [
    {
     "name": "stdout",
     "output_type": "stream",
     "text": [
      "600\n",
      "Fold 1 results:\n",
      "accuracy: 0.7708\n",
      "Fold 2 results:\n",
      "accuracy: 0.7632\n",
      "Fold 3 results:\n",
      "accuracy: 0.7568\n",
      "Fold 4 results:\n",
      "accuracy: 0.7360\n",
      "Fold 5 results:\n",
      "accuracy: 0.7339\n"
     ]
    }
   ],
   "source": [
    "def five_fold_validation(X, y, rf):\n",
    "    folds = len(X) // 5\n",
    "    accuracies = []\n",
    "    for i in range(5):\n",
    "        start = i * folds\n",
    "        end = start + folds if i < 4 else len(X)\n",
    "        x_train = np.concatenate((X[:start], X[end:]))\n",
    "        y_train = np.concatenate((y[:start], y[end:]))\n",
    "        x_test = X[start:end]\n",
    "        y_test = y[start:end]\n",
    "        rf.fit(x_train, y_train)\n",
    "        predy = rf.predict(x_test)\n",
    "        print(f\"Fold {i + 1} results:\")\n",
    "        accuracy = accuracy_score(y_test, predy)\n",
    "        print(f\"accuracy: {accuracy:.4f}\")\n",
    "        accuracies.append(accuracy)\n",
    "    print(f\"Average accuracy: {np.mean(accuracies):.4f}\")\n",
    "\n",
    "random.seed(9444)\n",
    "random.shuffle(features)\n",
    "X = np.array([f[0] for f in features])\n",
    "labels = np.array([f[1] for f in features])\n",
    "\n",
    "rf = RandomForestClassifier(\n",
    "            n_estimators=500,\n",
    "            max_depth=20,\n",
    "            max_features=0.3,\n",
    "            random_state=42,\n",
    "            n_jobs=-1\n",
    "        )\n",
    "\n",
    "\n",
    "five_fold_validation(X, labels, rf)"
   ]
  }
 ],
 "metadata": {
  "kernelspec": {
   "display_name": ".venv",
   "language": "python",
   "name": "python3"
  },
  "language_info": {
   "codemirror_mode": {
    "name": "ipython",
    "version": 3
   },
   "file_extension": ".py",
   "mimetype": "text/x-python",
   "name": "python",
   "nbconvert_exporter": "python",
   "pygments_lexer": "ipython3",
   "version": "3.12.4"
  }
 },
 "nbformat": 4,
 "nbformat_minor": 5
}
