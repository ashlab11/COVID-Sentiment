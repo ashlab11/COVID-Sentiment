{
 "cells": [
  {
   "metadata": {
    "ExecuteTime": {
     "end_time": "2025-04-10T10:44:30.126523Z",
     "start_time": "2025-04-10T10:44:27.138201Z"
    }
   },
   "cell_type": "code",
   "source": [
    "import pandas as pd\n",
    "import nltk, re\n",
    "from nltk.corpus import stopwords\n",
    "\n",
    "\n",
    "nltk.download('punkt')\n",
    "nltk.download('stopwords')\n",
    "words = set(stopwords.words('english'))\n",
    "\n",
    "\n",
    "def cleandata(file):\n",
    "    def process_text(text):\n",
    "        if not isinstance(text, str):\n",
    "            return []\n",
    "        text = re.sub(r'[^\\w\\s]', '', text.lower())\n",
    "        text = re.sub(r'\\d+', '', text)\n",
    "        tokens = word_tokenize(text)\n",
    "        return [token for token in tokens if token not in words]\n",
    "\n",
    "    sentences = file['tweet'].apply(process_text)\n",
    "    labels = file['label'].values\n",
    "    mask = sentences.apply(len) > 0\n",
    "    sentences = sentences[mask].tolist()\n",
    "    labels = labels[mask]\n",
    "    print(f\"Cleaned data: {len(sentences)} sentences, {len(labels)} labels\")\n",
    "    return sentences, labels\n",
    "\n",
    "file = pd.read_csv('./data/clean_COVIDSenti.csv')\n",
    "sentences, labels = cleandata(file)\n",
    "cleanfile = pd.DataFrame({'tweet': sentences,'label': labels})\n",
    "cleanfile.to_csv(\"./data/cleaned.csv\", index=False)"
   ],
   "id": "6daaedf80379024e",
   "outputs": [
    {
     "name": "stderr",
     "output_type": "stream",
     "text": [
      "[nltk_data] Downloading package punkt to C:\\Users\\manafeng-\n",
      "[nltk_data]     local\\AppData\\Roaming\\nltk_data...\n",
      "[nltk_data]   Package punkt is already up-to-date!\n",
      "[nltk_data] Downloading package stopwords to C:\\Users\\manafeng-\n",
      "[nltk_data]     local\\AppData\\Roaming\\nltk_data...\n",
      "[nltk_data]   Package stopwords is already up-to-date!\n"
     ]
    },
    {
     "name": "stdout",
     "output_type": "stream",
     "text": [
      "Cleaned data: 90000 sentences, 90000 labels\n"
     ]
    }
   ],
   "execution_count": 5
  },
  {
   "metadata": {
    "collapsed": true,
    "ExecuteTime": {
     "end_time": "2025-04-11T07:21:32.576645Z",
     "start_time": "2025-04-11T07:19:50.186510Z"
    }
   },
   "cell_type": "code",
   "source": [
    "import multiprocessing\n",
    "import pandas as pd\n",
    "import numpy as np\n",
    "from gensim.models import Word2Vec\n",
    "from nltk import word_tokenize\n",
    "# from imblearn.over_sampling import SMOTE\n",
    "from sklearn.model_selection import train_test_split\n",
    "from sklearn.ensemble import RandomForestClassifier\n",
    "from sklearn.metrics import accuracy_score, classification_report\n",
    "\n",
    "\n",
    "def extract_features(tokens, model_path, vector_size):\n",
    "        model = Word2Vec.load(model_path)\n",
    "        vectors = [model.wv[word] for word in tokens if word in model.wv]\n",
    "        return np.mean(vectors if vectors else [np.zeros(vector_size)], axis=0)\n",
    "\n",
    "\n",
    "def save_test_features(x, y, method, n_jobs=-1):\n",
    "    unilabels, counts = np.unique(y, return_counts=True)\n",
    "    print(dict(zip(unilabels, counts)))\n",
    "    np.save(f\"{method}-features.npy\", x)\n",
    "    np.save(f\"{method}-labels.npy\", y)\n",
    "    print(f\"{method} 's npy files have saved\")\n",
    "\n",
    "    x = np.array(x)\n",
    "    y = np.array(y)\n",
    "    # smote = SMOTE(random_state=42, sampling_strategy='auto', k_neighbors=3)\n",
    "    # x_re, y_re = smote.fit_resample(x, y)\n",
    "    # print(len(x_re), len(x))\n",
    "\n",
    "    trainx, testx, trainy, testy = train_test_split(x, y, test_size=0.2, random_state=42)\n",
    "    rt = RandomForestClassifier(\n",
    "        n_estimators=500,\n",
    "        max_depth=5,\n",
    "        max_features='sqrt',\n",
    "        random_state=42,\n",
    "        n_jobs=n_jobs\n",
    "    )\n",
    "    rt.fit(trainx, trainy)\n",
    "    predy = rt.predict(testx)\n",
    "\n",
    "    print(f\"Results with Random Forest:\")\n",
    "    print(f\"accuracy: {accuracy_score(testy, predy):.4f}\")\n",
    "    print(\"accuracy rate:\")\n",
    "    print(classification_report(testy, predy, target_names=['Negative', 'Neutral', 'Positive']))\n",
    "\n",
    "\n",
    "def word2vec(file_path, vector_size=600, window=3, min_count=2):\n",
    "    file = pd.read_csv(file_path, header=0, names=['tweet', 'label'])\n",
    "    all_sentences = file['tweet'].tolist()\n",
    "    labels = file['label'].values\n",
    "\n",
    "    model = Word2Vec(\n",
    "        sg =1,\n",
    "        epochs = 40,\n",
    "        vector_size=vector_size,\n",
    "        window=window,\n",
    "        min_count=min_count,\n",
    "        workers=multiprocessing.cpu_count() - 5,\n",
    "    )\n",
    "    model.build_vocab(all_sentences)\n",
    "    model.train(all_sentences, total_examples=len(all_sentences), epochs=model.epochs)\n",
    "\n",
    "    model_path = \"word2vec.model\"\n",
    "    model.save(model_path)\n",
    "    print(\"final model has saved\")\n",
    "\n",
    "    x = [extract_features(tokens, model_path, vector_size) for tokens in all_sentences]\n",
    "    x = np.array(x)\n",
    "    print(f\"{x.shape} features has extracted\")\n",
    "\n",
    "    save_test_features(x, labels, \"word2vec\")\n",
    "    print(\"word2vec process finished\")\n",
    "    print(\"now, saving features......\")\n",
    "\n",
    "\n",
    "\n",
    "file = \"./data/cleaned.csv\"\n",
    "word2vec(file)\n"
   ],
   "id": "initial_id",
   "outputs": [
    {
     "name": "stdout",
     "output_type": "stream",
     "text": [
      "final model has saved\n",
      "(90000, 600) features has extracted\n",
      "{-1: 16335, 0: 67385, 1: 6280}\n",
      "word2vec 's npy files have saved\n",
      "Results with Random Forest:\n",
      "accuracy: 0.7490\n",
      "accuracy rate:\n",
      "              precision    recall  f1-score   support\n",
      "\n",
      "    Negative       0.00      0.00      0.00      3257\n",
      "     Neutral       0.75      1.00      0.86     13478\n",
      "    Positive       1.00      0.00      0.01      1265\n",
      "\n",
      "    accuracy                           0.75     18000\n",
      "   macro avg       0.58      0.33      0.29     18000\n",
      "weighted avg       0.63      0.75      0.64     18000\n",
      "\n",
      "word2vec process finished\n",
      "now, saving features......\n"
     ]
    },
    {
     "name": "stderr",
     "output_type": "stream",
     "text": [
      "/home/manafeng/miniconda3/lib/python3.12/site-packages/sklearn/metrics/_classification.py:1565: UndefinedMetricWarning: Precision is ill-defined and being set to 0.0 in labels with no predicted samples. Use `zero_division` parameter to control this behavior.\n",
      "  _warn_prf(average, modifier, f\"{metric.capitalize()} is\", len(result))\n",
      "/home/manafeng/miniconda3/lib/python3.12/site-packages/sklearn/metrics/_classification.py:1565: UndefinedMetricWarning: Precision is ill-defined and being set to 0.0 in labels with no predicted samples. Use `zero_division` parameter to control this behavior.\n",
      "  _warn_prf(average, modifier, f\"{metric.capitalize()} is\", len(result))\n",
      "/home/manafeng/miniconda3/lib/python3.12/site-packages/sklearn/metrics/_classification.py:1565: UndefinedMetricWarning: Precision is ill-defined and being set to 0.0 in labels with no predicted samples. Use `zero_division` parameter to control this behavior.\n",
      "  _warn_prf(average, modifier, f\"{metric.capitalize()} is\", len(result))\n"
     ]
    }
   ],
   "execution_count": 3
  },
  {
   "metadata": {},
   "cell_type": "code",
   "outputs": [],
   "execution_count": null,
   "source": "",
   "id": "e89c364370b13de0"
  }
 ],
 "metadata": {
  "kernelspec": {
   "display_name": "Python 3",
   "language": "python",
   "name": "python3"
  },
  "language_info": {
   "codemirror_mode": {
    "name": "ipython",
    "version": 2
   },
   "file_extension": ".py",
   "mimetype": "text/x-python",
   "name": "python",
   "nbconvert_exporter": "python",
   "pygments_lexer": "ipython2",
   "version": "2.7.6"
  }
 },
 "nbformat": 4,
 "nbformat_minor": 5
}
